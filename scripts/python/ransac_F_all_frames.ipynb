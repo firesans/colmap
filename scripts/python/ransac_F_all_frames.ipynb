{
 "cells": [
  {
   "cell_type": "code",
   "execution_count": 6,
   "metadata": {},
   "outputs": [],
   "source": [
    "import os\n",
    "import glob\n",
    "import sys\n",
    "import numpy as np\n",
    "import cv2 as cv"
   ]
  },
  {
   "cell_type": "code",
   "execution_count": 7,
   "metadata": {},
   "outputs": [],
   "source": [
    "hwd = os.getcwd()\n",
    "cameras = glob.glob(os.path.join(hwd, 'E057_Cheeks_Puffed/*'))\n",
    "frames = glob.glob(os.path.join(hwd, 'E057_Cheeks_Puffed/400002/*'))"
   ]
  },
  {
   "cell_type": "code",
   "execution_count": 8,
   "metadata": {},
   "outputs": [],
   "source": [
    "cnt = 0\n",
    "pairwise_flist = []\n",
    "# for all pairs of cameras - \n",
    "for i in range(8):\n",
    "    leftcamera = cameras[i]\n",
    "    leftid = leftcamera.strip().split(\"/\")[-1]\n",
    "    for j in range(i+1, 8):\n",
    "        rightcamera = cameras[j]\n",
    "        rightid = rightcamera.strip().split(\"/\")[-1]\n",
    "        Fij = np.zeros((3,3))\n",
    "        fmatches = -1\n",
    "        # over all the frames of the video\n",
    "        for k in range(len(frames)):\n",
    "            \n",
    "            frame_id = frames[k].strip().split(\"/\")[-1]\n",
    "            f1_name = os.path.join(leftcamera, frame_id)\n",
    "            f2_name = os.path.join(rightcamera, frame_id)\n",
    "            img1 = cv.imread(f1_name, cv.IMREAD_GRAYSCALE)\n",
    "            img2 = cv.imread(f2_name, cv.IMREAD_GRAYSCALE)\n",
    "\n",
    "            sift = cv.SIFT_create()\n",
    "            # find the keypoints and descriptors with SIFT\n",
    "            kp1, des1 = sift.detectAndCompute(img1, None)\n",
    "            kp2, des2 = sift.detectAndCompute(img2, None)\n",
    "\n",
    "            # FLANN parameters\n",
    "            FLANN_INDEX_KDTREE = 1\n",
    "            index_params = dict(algorithm = FLANN_INDEX_KDTREE, trees = 5)\n",
    "            search_params = dict(checks=50)\n",
    "            flann = cv.FlannBasedMatcher(index_params,search_params)\n",
    "            matches = flann.knnMatch(des1,des2,k=2)\n",
    "            \n",
    "            if fmatches < len(list(matches)):\n",
    "                # calculate F and update Fij\n",
    "                pts1 = []\n",
    "                pts2 = []\n",
    "                # ratio test as per Lowe's paper\n",
    "                for i,(m,n) in enumerate(matches):\n",
    "                    if m.distance < 0.8*n.distance:\n",
    "                        pts2.append(kp2[m.trainIdx].pt)\n",
    "                        pts1.append(kp1[m.queryIdx].pt)\n",
    "                        \n",
    "                pts1 = np.int32(pts1)\n",
    "                pts2 = np.int32(pts2)\n",
    "\n",
    "                Fij, _ = cv.findFundamentalMat(pts1, pts2, cv.FM_LMEDS)\n",
    "                fmatches = len(list(matches))\n",
    "        pairwise_flist.append([leftid, rightid, Fij, fmatches])"
   ]
  },
  {
   "cell_type": "code",
   "execution_count": 9,
   "metadata": {},
   "outputs": [
    {
     "data": {
      "text/plain": [
       "28"
      ]
     },
     "execution_count": 9,
     "metadata": {},
     "output_type": "execute_result"
    }
   ],
   "source": [
    "len(pairwise_flist)"
   ]
  },
  {
   "cell_type": "code",
   "execution_count": 27,
   "metadata": {},
   "outputs": [],
   "source": [
    "import pandas as pd\n",
    "import numpy as np\n",
    "\n",
    "krt = open(\"KRT_gaini\", \"r\").readlines()\n",
    "lines = len(krt)\n",
    "\n",
    "cameras = dict()\n",
    "images = dict()\n",
    "trans = dict()\n",
    "matrices = dict()\n",
    "for i in range(0, lines):\n",
    "    line = krt[i]\n",
    "    line = line.strip()\n",
    "    \n",
    "    if line.startswith(\"4\"):\n",
    "        #intrinsics\n",
    "        cam = line.strip() \n",
    "        fx = krt[i+1].split(\" \")[0].strip()\n",
    "        fy = krt[i+2].split(\" \")[1].strip()\n",
    "        cx = krt[i+1].split(\" \")[2].strip()\n",
    "        cy = krt[i+2].split(\" \")[2].strip()\n",
    "        cameras[cam] = np.array([[fx, 0, cx], [0, fy, cy], [0, 0, 1]])\n",
    "           \n",
    "        #extrinsics - extrinsic matrix to quaternions\n",
    "        matrix = np.zeros((3,3), dtype=float)\n",
    "        matrix[0,:] = krt[i+5].split(\" \")[0:3]\n",
    "        matrix[1,:] = krt[i+6].split(\" \")[0:3]\n",
    "        matrix[2,:] = krt[i+7].split(\" \")[0:3]\n",
    "        tx = krt[i+5].split(\" \")[3].strip()\n",
    "        ty = krt[i+6].split(\" \")[3].strip()\n",
    "        tz = krt[i+7].split(\" \")[3].strip()\n",
    "        \n",
    "        T = np.array([float(tx), float(ty), float(tz)]).reshape((3,1))\n",
    "        matrices[cam] = matrix        \n",
    "        trans[cam] = T\n",
    "    else:\n",
    "        continue"
   ]
  },
  {
   "cell_type": "code",
   "execution_count": 17,
   "metadata": {},
   "outputs": [],
   "source": [
    "im = dict()\n",
    "cnt = 0\n",
    "for i, pair in enumerate(pairwise_flist):\n",
    "    if pair[0] not in im:\n",
    "        im[pair[0]] = cnt\n",
    "        cnt += 1\n",
    "\n",
    "for i, pair in enumerate(pairwise_flist):\n",
    "    if pair[1] not in im:\n",
    "        im[pair[1]] = cnt\n",
    "        cnt += 1"
   ]
  },
  {
   "cell_type": "code",
   "execution_count": 52,
   "metadata": {},
   "outputs": [],
   "source": [
    "# Task 2 - loop through all the available pairs and concatenate the equations \n",
    "def get_initial_intrinsics(vars):\n",
    "    err = 0\n",
    "    for _, pair in enumerate(pairwise_flist):\n",
    "        im1_id = pair[0]\n",
    "        im2_id = pair[1]\n",
    "\n",
    "        # intrinsics ground truth values       \n",
    "        k1 = vars[3*(im[im1_id]): 3+3*(im[im1_id])]\n",
    "        #a1 = np.array(cameras[im1_id], dtype=float)\n",
    "        a1 = np.array([[7500*k1[0], 0, 1334*0.5*k1[1]], [0, 7800*k1[0], 2048*0.5*k1[2]], [0, 0, 1]])\n",
    "        \n",
    "        k2 = vars[3*(im[im2_id]): 3+3*(im[im2_id])]\n",
    "        #a2 = np.array(cameras[im2_id], dtype=float)\n",
    "        a2 = np.array([[7500*k2[0], 0, 1334*0.5*k2[1]], [0, 7800*k2[0], 2048*0.5*k2[2]], [0, 0, 1]])\n",
    "        \n",
    "        Fij = pair[2]\n",
    "        r1, t1 = matrices[im1_id], trans[im1_id]\n",
    "        r2, t2 = matrices[im2_id], trans[im2_id]\n",
    "        \n",
    "        r_rel = r2 @ r1.T\n",
    "        t_rel = t2 - r_rel @ t1\n",
    "        \n",
    "        T1, T2, T3 = t_rel[0,0], t_rel[1,0], t_rel[2,0]\n",
    "        t_cross = np.array(([0, -T3, T2], [T3, 0, -T1], [-T2, T1, 0]))\n",
    "        E = t_cross @ r_rel\n",
    "        \n",
    "        eff = a2.T @ Fij @ a1\n",
    "        lmd = np.sum(eff * E) / np.sum(eff * eff)\n",
    "        delta = eff*lmd - E\n",
    "        err += np.sum(delta ** 2) \n",
    "    \n",
    "    return err"
   ]
  },
  {
   "cell_type": "code",
   "execution_count": 53,
   "metadata": {},
   "outputs": [],
   "source": [
    "from scipy.optimize import minimize\n",
    "\n",
    "vars0 = np.ones(8*3) #np.array([7000, 1334//2, 7000, 2048//2]*39)\n",
    "res = minimize(get_initial_intrinsics, vars0)"
   ]
  },
  {
   "cell_type": "code",
   "execution_count": 54,
   "metadata": {},
   "outputs": [
    {
     "name": "stdout",
     "output_type": "stream",
     "text": [
      "  message: Desired error not necessarily achieved due to precision loss.\n",
      "  success: False\n",
      "   status: 2\n",
      "      fun: 53612962.79575095\n",
      "        x: [ 2.627e-02  1.894e+00 ... -5.865e-01  2.740e+00]\n",
      "      nit: 208\n",
      "      jac: [-1.140e+03 -4.000e+00 ...  3.500e+00  1.600e+01]\n",
      " hess_inv: [[ 2.768e-10  1.377e-09 ... -2.675e-09  4.104e-10]\n",
      "            [ 1.377e-09  4.173e-08 ... -1.130e-09 -4.646e-09]\n",
      "            ...\n",
      "            [-2.675e-09 -1.130e-09 ...  1.769e-06 -6.723e-07]\n",
      "            [ 4.104e-10 -4.646e-09 ... -6.723e-07  7.372e-07]]\n",
      "     nfev: 7525\n",
      "     njev: 301\n"
     ]
    }
   ],
   "source": [
    "print(res)"
   ]
  },
  {
   "cell_type": "code",
   "execution_count": null,
   "metadata": {},
   "outputs": [],
   "source": [
    "for i in range(0, len(res['x']), 3):\n",
    "    k = res['x'][i:i+3]\n",
    "    a1 = np.array([[7500*k[0], 0, 1334*0.5*k[1]], [0, 7800*k[0], 2048*0.5*k[2]], [0, 0, 1]])\n",
    "    print(a1)"
   ]
  }
 ],
 "metadata": {
  "kernelspec": {
   "display_name": "base",
   "language": "python",
   "name": "python3"
  },
  "language_info": {
   "codemirror_mode": {
    "name": "ipython",
    "version": 3
   },
   "file_extension": ".py",
   "mimetype": "text/x-python",
   "name": "python",
   "nbconvert_exporter": "python",
   "pygments_lexer": "ipython3",
   "version": "3.10.9"
  },
  "orig_nbformat": 4,
  "vscode": {
   "interpreter": {
    "hash": "13cf9f9b5aa0f925e9c7b4e2cd4a740570b777c3dc53690afd3ad4fbd1226651"
   }
  }
 },
 "nbformat": 4,
 "nbformat_minor": 2
}
